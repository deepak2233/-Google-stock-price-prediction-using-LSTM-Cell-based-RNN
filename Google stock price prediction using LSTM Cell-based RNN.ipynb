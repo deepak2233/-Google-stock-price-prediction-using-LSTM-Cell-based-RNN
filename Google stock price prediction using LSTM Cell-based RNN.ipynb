{
 "cells": [
  {
   "cell_type": "markdown",
   "metadata": {},
   "source": [
    "# Google stock price prediction using LSTM Cell-based RNN"
   ]
  },
  {
   "cell_type": "code",
   "execution_count": 1,
   "metadata": {},
   "outputs": [],
   "source": [
    "#import Library\n",
    "import numpy as np\n",
    "import pandas as pd\n",
    "import matplotlib.pyplot as plt\n"
   ]
  },
  {
   "cell_type": "code",
   "execution_count": 4,
   "metadata": {},
   "outputs": [],
   "source": [
    "datasets_train = pd.read_csv(\"D:\\\\Desktop\\\\datasets\\\\Emoji\\\\google stock\\\\Google_Stock_Price_Train.csv\")"
   ]
  },
  {
   "cell_type": "code",
   "execution_count": 5,
   "metadata": {},
   "outputs": [
    {
     "data": {
      "text/html": [
       "<div>\n",
       "<style scoped>\n",
       "    .dataframe tbody tr th:only-of-type {\n",
       "        vertical-align: middle;\n",
       "    }\n",
       "\n",
       "    .dataframe tbody tr th {\n",
       "        vertical-align: top;\n",
       "    }\n",
       "\n",
       "    .dataframe thead th {\n",
       "        text-align: right;\n",
       "    }\n",
       "</style>\n",
       "<table border=\"1\" class=\"dataframe\">\n",
       "  <thead>\n",
       "    <tr style=\"text-align: right;\">\n",
       "      <th></th>\n",
       "      <th>Date</th>\n",
       "      <th>Open</th>\n",
       "      <th>High</th>\n",
       "      <th>Low</th>\n",
       "      <th>Close</th>\n",
       "      <th>Volume</th>\n",
       "    </tr>\n",
       "  </thead>\n",
       "  <tbody>\n",
       "    <tr>\n",
       "      <th>0</th>\n",
       "      <td>1/3/2012</td>\n",
       "      <td>325.25</td>\n",
       "      <td>332.83</td>\n",
       "      <td>324.97</td>\n",
       "      <td>663.59</td>\n",
       "      <td>7,380,500</td>\n",
       "    </tr>\n",
       "    <tr>\n",
       "      <th>1</th>\n",
       "      <td>1/4/2012</td>\n",
       "      <td>331.27</td>\n",
       "      <td>333.87</td>\n",
       "      <td>329.08</td>\n",
       "      <td>666.45</td>\n",
       "      <td>5,749,400</td>\n",
       "    </tr>\n",
       "    <tr>\n",
       "      <th>2</th>\n",
       "      <td>1/5/2012</td>\n",
       "      <td>329.83</td>\n",
       "      <td>330.75</td>\n",
       "      <td>326.89</td>\n",
       "      <td>657.21</td>\n",
       "      <td>6,590,300</td>\n",
       "    </tr>\n",
       "    <tr>\n",
       "      <th>3</th>\n",
       "      <td>1/6/2012</td>\n",
       "      <td>328.34</td>\n",
       "      <td>328.77</td>\n",
       "      <td>323.68</td>\n",
       "      <td>648.24</td>\n",
       "      <td>5,405,900</td>\n",
       "    </tr>\n",
       "    <tr>\n",
       "      <th>4</th>\n",
       "      <td>1/9/2012</td>\n",
       "      <td>322.04</td>\n",
       "      <td>322.29</td>\n",
       "      <td>309.46</td>\n",
       "      <td>620.76</td>\n",
       "      <td>11,688,800</td>\n",
       "    </tr>\n",
       "  </tbody>\n",
       "</table>\n",
       "</div>"
      ],
      "text/plain": [
       "       Date    Open    High     Low   Close      Volume\n",
       "0  1/3/2012  325.25  332.83  324.97  663.59   7,380,500\n",
       "1  1/4/2012  331.27  333.87  329.08  666.45   5,749,400\n",
       "2  1/5/2012  329.83  330.75  326.89  657.21   6,590,300\n",
       "3  1/6/2012  328.34  328.77  323.68  648.24   5,405,900\n",
       "4  1/9/2012  322.04  322.29  309.46  620.76  11,688,800"
      ]
     },
     "execution_count": 5,
     "metadata": {},
     "output_type": "execute_result"
    }
   ],
   "source": [
    "datasets_train.head()"
   ]
  },
  {
   "cell_type": "code",
   "execution_count": 67,
   "metadata": {},
   "outputs": [],
   "source": [
    "training_set = datasets_train.iloc[:,1:2].values"
   ]
  },
  {
   "cell_type": "code",
   "execution_count": 68,
   "metadata": {},
   "outputs": [
    {
     "data": {
      "text/plain": [
       "array([[325.25],\n",
       "       [331.27],\n",
       "       [329.83],\n",
       "       ...,\n",
       "       [793.7 ],\n",
       "       [783.33],\n",
       "       [782.75]])"
      ]
     },
     "execution_count": 68,
     "metadata": {},
     "output_type": "execute_result"
    }
   ],
   "source": [
    "# Select Open stocks\n",
    "training_set"
   ]
  },
  {
   "cell_type": "code",
   "execution_count": 72,
   "metadata": {},
   "outputs": [],
   "source": [
    "# Feature scaling\n",
    "from sklearn.preprocessing import MinMaxScaler\n",
    "sc = MinMaxScaler(feature_range= (0,1))\n",
    "training_set_scaled = sc.fit_transform(training_set)"
   ]
  },
  {
   "cell_type": "code",
   "execution_count": 17,
   "metadata": {},
   "outputs": [
    {
     "data": {
      "text/plain": [
       "array([[0.08581368],\n",
       "       [0.09701243],\n",
       "       [0.09433366],\n",
       "       ...,\n",
       "       [0.95725128],\n",
       "       [0.93796041],\n",
       "       [0.93688146]])"
      ]
     },
     "execution_count": 17,
     "metadata": {},
     "output_type": "execute_result"
    }
   ],
   "source": [
    "training_set_scaled"
   ]
  },
  {
   "cell_type": "code",
   "execution_count": 18,
   "metadata": {},
   "outputs": [],
   "source": [
    "# Creating a data structure with 60 time step back \n",
    "# according to LSTM to retaing the patternt from previous stage\n",
    "\n",
    "x_train = []\n",
    "y_train = []\n",
    "for i in range(60,1258):\n",
    "    x_train.append(training_set_scaled[i-60:i,0])\n",
    "    y_train.append(training_set_scaled[i,0])\n",
    "x_train,y_train = np.array(x_train), np.array(y_train)\n"
   ]
  },
  {
   "cell_type": "code",
   "execution_count": 19,
   "metadata": {},
   "outputs": [
    {
     "data": {
      "text/plain": [
       "array([[0.08581368, 0.09701243, 0.09433366, ..., 0.07846566, 0.08034452,\n",
       "        0.08497656],\n",
       "       [0.09701243, 0.09433366, 0.09156187, ..., 0.08034452, 0.08497656,\n",
       "        0.08627874],\n",
       "       [0.09433366, 0.09156187, 0.07984225, ..., 0.08497656, 0.08627874,\n",
       "        0.08471612],\n",
       "       ...,\n",
       "       [0.92106928, 0.92438053, 0.93048218, ..., 0.95475854, 0.95204256,\n",
       "        0.95163331],\n",
       "       [0.92438053, 0.93048218, 0.9299055 , ..., 0.95204256, 0.95163331,\n",
       "        0.95725128],\n",
       "       [0.93048218, 0.9299055 , 0.93113327, ..., 0.95163331, 0.95725128,\n",
       "        0.93796041]])"
      ]
     },
     "execution_count": 19,
     "metadata": {},
     "output_type": "execute_result"
    }
   ],
   "source": [
    "x_train"
   ]
  },
  {
   "cell_type": "code",
   "execution_count": 20,
   "metadata": {},
   "outputs": [
    {
     "data": {
      "text/plain": [
       "array([0.08627874, 0.08471612, 0.07454052, ..., 0.95725128, 0.93796041,\n",
       "       0.93688146])"
      ]
     },
     "execution_count": 20,
     "metadata": {},
     "output_type": "execute_result"
    }
   ],
   "source": [
    "y_train"
   ]
  },
  {
   "cell_type": "code",
   "execution_count": 24,
   "metadata": {},
   "outputs": [],
   "source": [
    "# Reshaping \n",
    "x_train = np.reshape(x_train,(x_train.shape[0],x_train.shape[1],1))"
   ]
  },
  {
   "cell_type": "code",
   "execution_count": 25,
   "metadata": {},
   "outputs": [
    {
     "data": {
      "text/plain": [
       "array([[[0.08581368],\n",
       "        [0.09701243],\n",
       "        [0.09433366],\n",
       "        ...,\n",
       "        [0.07846566],\n",
       "        [0.08034452],\n",
       "        [0.08497656]],\n",
       "\n",
       "       [[0.09701243],\n",
       "        [0.09433366],\n",
       "        [0.09156187],\n",
       "        ...,\n",
       "        [0.08034452],\n",
       "        [0.08497656],\n",
       "        [0.08627874]],\n",
       "\n",
       "       [[0.09433366],\n",
       "        [0.09156187],\n",
       "        [0.07984225],\n",
       "        ...,\n",
       "        [0.08497656],\n",
       "        [0.08627874],\n",
       "        [0.08471612]],\n",
       "\n",
       "       ...,\n",
       "\n",
       "       [[0.92106928],\n",
       "        [0.92438053],\n",
       "        [0.93048218],\n",
       "        ...,\n",
       "        [0.95475854],\n",
       "        [0.95204256],\n",
       "        [0.95163331]],\n",
       "\n",
       "       [[0.92438053],\n",
       "        [0.93048218],\n",
       "        [0.9299055 ],\n",
       "        ...,\n",
       "        [0.95204256],\n",
       "        [0.95163331],\n",
       "        [0.95725128]],\n",
       "\n",
       "       [[0.93048218],\n",
       "        [0.9299055 ],\n",
       "        [0.93113327],\n",
       "        ...,\n",
       "        [0.95163331],\n",
       "        [0.95725128],\n",
       "        [0.93796041]]])"
      ]
     },
     "execution_count": 25,
     "metadata": {},
     "output_type": "execute_result"
    }
   ],
   "source": [
    "x_train"
   ]
  },
  {
   "cell_type": "markdown",
   "metadata": {},
   "source": [
    "# RNN + LSTM Model"
   ]
  },
  {
   "cell_type": "code",
   "execution_count": 33,
   "metadata": {},
   "outputs": [
    {
     "name": "stdout",
     "output_type": "stream",
     "text": [
      "Model: \"sequential_5\"\n",
      "_________________________________________________________________\n",
      "Layer (type)                 Output Shape              Param #   \n",
      "=================================================================\n",
      "lstm_10 (LSTM)               (None, 60, 50)            10400     \n",
      "_________________________________________________________________\n",
      "dropout_8 (Dropout)          (None, 60, 50)            0         \n",
      "_________________________________________________________________\n",
      "lstm_11 (LSTM)               (None, 60, 50)            20200     \n",
      "_________________________________________________________________\n",
      "dropout_9 (Dropout)          (None, 60, 50)            0         \n",
      "_________________________________________________________________\n",
      "lstm_12 (LSTM)               (None, 60, 50)            20200     \n",
      "_________________________________________________________________\n",
      "dropout_10 (Dropout)         (None, 60, 50)            0         \n",
      "_________________________________________________________________\n",
      "lstm_13 (LSTM)               (None, 50)                20200     \n",
      "_________________________________________________________________\n",
      "dropout_11 (Dropout)         (None, 50)                0         \n",
      "_________________________________________________________________\n",
      "dense_1 (Dense)              (None, 1)                 51        \n",
      "=================================================================\n",
      "Total params: 71,051\n",
      "Trainable params: 71,051\n",
      "Non-trainable params: 0\n",
      "_________________________________________________________________\n"
     ]
    }
   ],
   "source": [
    "# Building RNN\n",
    "from keras.models import Sequential\n",
    "from keras.layers import Dense\n",
    "from keras.layers import LSTM, Dropout\n",
    "\n",
    "# Intialising the RNN\n",
    "regressor = Sequential()\n",
    "\n",
    "# Adding the first LSTM layer and some Dropout regularisation\n",
    "regressor.add(LSTM(units=50,return_sequences=True, input_shape=(x_train.shape[1],1)))\n",
    "regressor.add(Dropout(0.2))\n",
    "\n",
    "# Adding a second LSTM layer and Dropout regularisation\n",
    "regressor.add(LSTM(units=50,return_sequences=True))\n",
    "regressor.add(Dropout(0.2))\n",
    "\n",
    "# Adding a third LSTM layer and Dropout regularisation\n",
    "regressor.add(LSTM(units=50,return_sequences=True))\n",
    "regressor.add(Dropout(0.2))\n",
    "\n",
    "# Adding a fouth LSTM layer and Dropout regularisation\n",
    "regressor.add(LSTM(units=50))\n",
    "regressor.add(Dropout(0.2))\n",
    "\n",
    "# Adding the Output Layer\n",
    "regressor.add(Dense(units=1))\n",
    "\n",
    "#compiling the RNN\n",
    "regressor.compile(optimizer='adam', loss='mean_squared_error', metrics = ['accuracy'])\n",
    "\n",
    "regressor.summary()"
   ]
  },
  {
   "cell_type": "code",
   "execution_count": 35,
   "metadata": {},
   "outputs": [
    {
     "name": "stdout",
     "output_type": "stream",
     "text": [
      "Epoch 1/100\n",
      "38/38 [==============================] - 17s 130ms/step - loss: 0.1013 - accuracy: 5.0396e-04\n",
      "Epoch 2/100\n",
      "38/38 [==============================] - 5s 131ms/step - loss: 0.0064 - accuracy: 0.0022\n",
      "Epoch 3/100\n",
      "38/38 [==============================] - 5s 132ms/step - loss: 0.0058 - accuracy: 5.8368e-04\n",
      "Epoch 4/100\n",
      "38/38 [==============================] - 5s 138ms/step - loss: 0.0051 - accuracy: 8.4030e-040s - loss: 0.0051 - accuracy: 7.70\n",
      "Epoch 5/100\n",
      "38/38 [==============================] - 6s 167ms/step - loss: 0.0052 - accuracy: 0.0010\n",
      "Epoch 6/100\n",
      "38/38 [==============================] - 6s 159ms/step - loss: 0.0050 - accuracy: 0.0018\n",
      "Epoch 7/100\n",
      "38/38 [==============================] - 5s 137ms/step - loss: 0.0044 - accuracy: 0.0018\n",
      "Epoch 8/100\n",
      "38/38 [==============================] - 5s 144ms/step - loss: 0.0061 - accuracy: 0.0011\n",
      "Epoch 9/100\n",
      "38/38 [==============================] - 5s 138ms/step - loss: 0.0044 - accuracy: 0.0032\n",
      "Epoch 10/100\n",
      "38/38 [==============================] - 5s 138ms/step - loss: 0.0042 - accuracy: 0.0025\n",
      "Epoch 11/100\n",
      "38/38 [==============================] - 5s 139ms/step - loss: 0.0039 - accuracy: 0.0046\n",
      "Epoch 12/100\n",
      "38/38 [==============================] - 5s 138ms/step - loss: 0.0039 - accuracy: 0.0014\n",
      "Epoch 13/100\n",
      "38/38 [==============================] - 5s 141ms/step - loss: 0.0035 - accuracy: 0.0018\n",
      "Epoch 14/100\n",
      "38/38 [==============================] - 5s 139ms/step - loss: 0.0043 - accuracy: 0.0031\n",
      "Epoch 15/100\n",
      "38/38 [==============================] - 6s 146ms/step - loss: 0.0036 - accuracy: 9.4390e-04\n",
      "Epoch 16/100\n",
      "38/38 [==============================] - 6s 152ms/step - loss: 0.0035 - accuracy: 0.0023\n",
      "Epoch 17/100\n",
      "38/38 [==============================] - 6s 145ms/step - loss: 0.0038 - accuracy: 0.0019\n",
      "Epoch 18/100\n",
      "38/38 [==============================] - 5s 140ms/step - loss: 0.0041 - accuracy: 0.0025\n",
      "Epoch 19/100\n",
      "38/38 [==============================] - 6s 164ms/step - loss: 0.0032 - accuracy: 0.0036\n",
      "Epoch 20/100\n",
      "38/38 [==============================] - 6s 161ms/step - loss: 0.0040 - accuracy: 6.6043e-04\n",
      "Epoch 21/100\n",
      "38/38 [==============================] - 6s 153ms/step - loss: 0.0038 - accuracy: 0.0014\n",
      "Epoch 22/100\n",
      "38/38 [==============================] - 6s 148ms/step - loss: 0.0038 - accuracy: 0.0031\n",
      "Epoch 23/100\n",
      "38/38 [==============================] - 6s 147ms/step - loss: 0.0032 - accuracy: 1.5118e-04\n",
      "Epoch 24/100\n",
      "38/38 [==============================] - 6s 146ms/step - loss: 0.0038 - accuracy: 0.0045\n",
      "Epoch 25/100\n",
      "38/38 [==============================] - 6s 148ms/step - loss: 0.0035 - accuracy: 0.0013\n",
      "Epoch 26/100\n",
      "38/38 [==============================] - 6s 164ms/step - loss: 0.0036 - accuracy: 6.1338e-04\n",
      "Epoch 27/100\n",
      "38/38 [==============================] - 6s 156ms/step - loss: 0.0028 - accuracy: 4.4877e-04\n",
      "Epoch 28/100\n",
      "38/38 [==============================] - 6s 155ms/step - loss: 0.0036 - accuracy: 5.9221e-04\n",
      "Epoch 29/100\n",
      "38/38 [==============================] - 5s 142ms/step - loss: 0.0033 - accuracy: 0.0014\n",
      "Epoch 30/100\n",
      "38/38 [==============================] - 6s 169ms/step - loss: 0.0039 - accuracy: 3.4467e-04\n",
      "Epoch 31/100\n",
      "38/38 [==============================] - 7s 191ms/step - loss: 0.0035 - accuracy: 0.0022\n",
      "Epoch 32/100\n",
      "38/38 [==============================] - 6s 167ms/step - loss: 0.0032 - accuracy: 2.2193e-04\n",
      "Epoch 33/100\n",
      "38/38 [==============================] - 6s 147ms/step - loss: 0.0027 - accuracy: 5.9221e-04\n",
      "Epoch 34/100\n",
      "38/38 [==============================] - 7s 187ms/step - loss: 0.0030 - accuracy: 0.0039\n",
      "Epoch 35/100\n",
      "38/38 [==============================] - 7s 178ms/step - loss: 0.0029 - accuracy: 0.0015\n",
      "Epoch 36/100\n",
      "38/38 [==============================] - 6s 155ms/step - loss: 0.0031 - accuracy: 0.0031\n",
      "Epoch 37/100\n",
      "38/38 [==============================] - 5s 140ms/step - loss: 0.0030 - accuracy: 4.7057e-04\n",
      "Epoch 38/100\n",
      "38/38 [==============================] - 5s 137ms/step - loss: 0.0028 - accuracy: 5.7470e-04\n",
      "Epoch 39/100\n",
      "38/38 [==============================] - 5s 134ms/step - loss: 0.0029 - accuracy: 0.0017\n",
      "Epoch 40/100\n",
      "38/38 [==============================] - 5s 135ms/step - loss: 0.0031 - accuracy: 0.0023\n",
      "Epoch 41/100\n",
      "38/38 [==============================] - 6s 154ms/step - loss: 0.0026 - accuracy: 7.0361e-04\n",
      "Epoch 42/100\n",
      "38/38 [==============================] - 5s 141ms/step - loss: 0.0026 - accuracy: 0.0056\n",
      "Epoch 43/100\n",
      "38/38 [==============================] - 5s 143ms/step - loss: 0.0026 - accuracy: 8.3373e-04\n",
      "Epoch 44/100\n",
      "38/38 [==============================] - 5s 142ms/step - loss: 0.0026 - accuracy: 0.0031\n",
      "Epoch 45/100\n",
      "38/38 [==============================] - 6s 152ms/step - loss: 0.0025 - accuracy: 7.7981e-04\n",
      "Epoch 46/100\n",
      "38/38 [==============================] - 6s 150ms/step - loss: 0.0023 - accuracy: 0.0024\n",
      "Epoch 47/100\n",
      "38/38 [==============================] - 6s 146ms/step - loss: 0.0025 - accuracy: 0.0024\n",
      "Epoch 48/100\n",
      "38/38 [==============================] - 6s 159ms/step - loss: 0.0025 - accuracy: 0.0034\n",
      "Epoch 49/100\n",
      "38/38 [==============================] - 6s 168ms/step - loss: 0.0027 - accuracy: 0.0035\n",
      "Epoch 50/100\n",
      "38/38 [==============================] - 6s 151ms/step - loss: 0.0025 - accuracy: 5.2934e-04\n",
      "Epoch 51/100\n",
      "38/38 [==============================] - 6s 148ms/step - loss: 0.0025 - accuracy: 0.0015\n",
      "Epoch 52/100\n",
      "38/38 [==============================] - 6s 147ms/step - loss: 0.0026 - accuracy: 0.0020\n",
      "Epoch 53/100\n",
      "38/38 [==============================] - 6s 149ms/step - loss: 0.0022 - accuracy: 0.0018\n",
      "Epoch 54/100\n",
      "38/38 [==============================] - 6s 159ms/step - loss: 0.0025 - accuracy: 0.0016\n",
      "Epoch 55/100\n",
      "38/38 [==============================] - 6s 155ms/step - loss: 0.0025 - accuracy: 0.0013\n",
      "Epoch 56/100\n",
      "38/38 [==============================] - 6s 161ms/step - loss: 0.0026 - accuracy: 0.0011\n",
      "Epoch 57/100\n",
      "38/38 [==============================] - 6s 156ms/step - loss: 0.0027 - accuracy: 0.0022\n",
      "Epoch 58/100\n",
      "38/38 [==============================] - 7s 175ms/step - loss: 0.0020 - accuracy: 0.0013\n",
      "Epoch 59/100\n",
      "38/38 [==============================] - 6s 145ms/step - loss: 0.0020 - accuracy: 0.0051\n",
      "Epoch 60/100\n",
      "38/38 [==============================] - 6s 155ms/step - loss: 0.0020 - accuracy: 0.0011\n",
      "Epoch 61/100\n",
      "38/38 [==============================] - 5s 145ms/step - loss: 0.0025 - accuracy: 5.0349e-04\n",
      "Epoch 62/100\n",
      "38/38 [==============================] - 6s 167ms/step - loss: 0.0018 - accuracy: 7.2418e-04\n",
      "Epoch 63/100\n",
      "38/38 [==============================] - 6s 160ms/step - loss: 0.0022 - accuracy: 0.0039\n",
      "Epoch 64/100\n",
      "38/38 [==============================] - 6s 148ms/step - loss: 0.0021 - accuracy: 0.0012\n",
      "Epoch 65/100\n",
      "38/38 [==============================] - 5s 144ms/step - loss: 0.0018 - accuracy: 0.0022\n",
      "Epoch 66/100\n",
      "38/38 [==============================] - 5s 142ms/step - loss: 0.0023 - accuracy: 0.0033\n",
      "Epoch 67/100\n",
      "38/38 [==============================] - 6s 152ms/step - loss: 0.0017 - accuracy: 8.4764e-04\n",
      "Epoch 68/100\n",
      "38/38 [==============================] - 6s 154ms/step - loss: 0.0018 - accuracy: 0.00230s - loss: 0.0018 - accura\n",
      "Epoch 69/100\n",
      "38/38 [==============================] - 6s 149ms/step - loss: 0.0018 - accuracy: 0.0011\n",
      "Epoch 70/100\n",
      "38/38 [==============================] - 6s 145ms/step - loss: 0.0020 - accuracy: 0.0013\n",
      "Epoch 71/100\n",
      "38/38 [==============================] - 6s 151ms/step - loss: 0.0016 - accuracy: 0.0042\n",
      "Epoch 72/100\n",
      "38/38 [==============================] - 6s 145ms/step - loss: 0.0020 - accuracy: 7.7306e-04\n",
      "Epoch 73/100\n",
      "38/38 [==============================] - 5s 125ms/step - loss: 0.0024 - accuracy: 9.0020e-04\n",
      "Epoch 74/100\n",
      "38/38 [==============================] - 5s 126ms/step - loss: 0.0018 - accuracy: 3.4941e-04\n",
      "Epoch 75/100\n",
      "38/38 [==============================] - 5s 129ms/step - loss: 0.0017 - accuracy: 0.0010\n",
      "Epoch 76/100\n",
      "38/38 [==============================] - 7s 173ms/step - loss: 0.0016 - accuracy: 0.0017\n",
      "Epoch 77/100\n",
      "38/38 [==============================] - 6s 154ms/step - loss: 0.0019 - accuracy: 3.1568e-04\n",
      "Epoch 78/100\n",
      "38/38 [==============================] - 5s 144ms/step - loss: 0.0019 - accuracy: 0.0018\n",
      "Epoch 79/100\n",
      "38/38 [==============================] - 5s 140ms/step - loss: 0.0019 - accuracy: 0.0029\n",
      "Epoch 80/100\n",
      "38/38 [==============================] - 6s 147ms/step - loss: 0.0015 - accuracy: 0.0012\n",
      "Epoch 81/100\n",
      "38/38 [==============================] - 6s 152ms/step - loss: 0.0017 - accuracy: 0.0012\n",
      "Epoch 82/100\n",
      "38/38 [==============================] - 5s 121ms/step - loss: 0.0016 - accuracy: 0.0012\n",
      "Epoch 83/100\n",
      "38/38 [==============================] - 5s 122ms/step - loss: 0.0015 - accuracy: 0.0045\n",
      "Epoch 84/100\n",
      "38/38 [==============================] - 5s 125ms/step - loss: 0.0016 - accuracy: 7.2356e-04\n",
      "Epoch 85/100\n",
      "38/38 [==============================] - 5s 132ms/step - loss: 0.0019 - accuracy: 0.0023\n",
      "Epoch 86/100\n",
      "38/38 [==============================] - 5s 133ms/step - loss: 0.0016 - accuracy: 7.0916e-04\n",
      "Epoch 87/100\n",
      "38/38 [==============================] - 5s 128ms/step - loss: 0.0016 - accuracy: 1.7344e-04\n",
      "Epoch 88/100\n",
      "38/38 [==============================] - 5s 133ms/step - loss: 0.0017 - accuracy: 0.0011\n",
      "Epoch 89/100\n",
      "38/38 [==============================] - 5s 134ms/step - loss: 0.0015 - accuracy: 9.8396e-04\n",
      "Epoch 90/100\n",
      "38/38 [==============================] - 5s 135ms/step - loss: 0.0019 - accuracy: 0.0024\n",
      "Epoch 91/100\n",
      "38/38 [==============================] - 5s 135ms/step - loss: 0.0016 - accuracy: 0.0035\n",
      "Epoch 92/100\n",
      "38/38 [==============================] - 5s 135ms/step - loss: 0.0015 - accuracy: 0.0023\n",
      "Epoch 93/100\n",
      "38/38 [==============================] - 5s 135ms/step - loss: 0.0014 - accuracy: 0.0017\n",
      "Epoch 94/100\n",
      "38/38 [==============================] - 5s 136ms/step - loss: 0.0017 - accuracy: 0.0019\n",
      "Epoch 95/100\n",
      "38/38 [==============================] - 5s 136ms/step - loss: 0.0015 - accuracy: 0.0014\n",
      "Epoch 96/100\n",
      "38/38 [==============================] - 5s 134ms/step - loss: 0.0014 - accuracy: 7.4335e-04\n",
      "Epoch 97/100\n",
      "38/38 [==============================] - 5s 135ms/step - loss: 0.0015 - accuracy: 0.0015\n",
      "Epoch 98/100\n",
      "38/38 [==============================] - 5s 142ms/step - loss: 0.0015 - accuracy: 8.6932e-04\n",
      "Epoch 99/100\n",
      "38/38 [==============================] - 5s 139ms/step - loss: 0.0012 - accuracy: 0.0018\n",
      "Epoch 100/100\n",
      "38/38 [==============================] - 5s 134ms/step - loss: 0.0015 - accuracy: 5.9812e-04\n"
     ]
    },
    {
     "data": {
      "text/plain": [
       "<tensorflow.python.keras.callbacks.History at 0x242def15430>"
      ]
     },
     "execution_count": 35,
     "metadata": {},
     "output_type": "execute_result"
    }
   ],
   "source": [
    "regressor.fit(x_train,y_train,epochs=100,batch_size=32)"
   ]
  },
  {
   "cell_type": "code",
   "execution_count": 64,
   "metadata": {},
   "outputs": [],
   "source": [
    "dataset_test = pd.read_csv(\"D:\\\\Desktop\\\\datasets\\\\Emoji\\\\google stock\\\\Google_Stock_Price_Test.csv\")"
   ]
  },
  {
   "cell_type": "code",
   "execution_count": 65,
   "metadata": {},
   "outputs": [],
   "source": [
    "real_stock_price= testing_data.iloc[:,1:2].values"
   ]
  },
  {
   "cell_type": "code",
   "execution_count": 70,
   "metadata": {},
   "outputs": [],
   "source": [
    "from sklearn.preprocessing import StandardScaler"
   ]
  },
  {
   "cell_type": "markdown",
   "metadata": {},
   "source": [
    "# Visualizing the Stocks"
   ]
  },
  {
   "cell_type": "code",
   "execution_count": 82,
   "metadata": {},
   "outputs": [
    {
     "data": {
      "image/png": "[encoded data removed]",
      "text/plain": [
       "<Figure size 432x288 with 1 Axes>"
      ]
     },
     "metadata": {
      "needs_background": "light"
     },
     "output_type": "display_data"
    }
   ],
   "source": [
    "# Getting the predicted stock price of 2017\n",
    "dataset_total = pd.concat((dataset_train['Open'], dataset_test['Open']), axis = 0)\n",
    "inputs = dataset_total[len(dataset_total) - len(dataset_test) - 60:].values\n",
    "inputs = inputs.reshape(-1,1)\n",
    "inputs = sc.transform(inputs)\n",
    "X_test = []\n",
    "for i in range(60, 80):\n",
    "    X_test.append(inputs[i-60:i, 0])\n",
    "X_test = np.array(X_test)\n",
    "X_test = np.reshape(X_test, (X_test.shape[0], X_test.shape[1], 1))\n",
    "predicted_stock_price = regressor.predict(X_test)\n",
    "predicted_stock_price = sc.inverse_transform(predicted_stock_price)\n",
    "\n",
    "# Visualising the results\n",
    "plt.plot(real_stock_price, color = 'red', label = 'Real Google Stock Price')\n",
    "plt.plot(predicted_stock_price, color = 'blue', label = 'Predicted Google Stock Price')\n",
    "plt.title('Google Stock Price Prediction')\n",
    "plt.xlabel('Time')\n",
    "plt.ylabel('Google Stock Price')\n",
    "plt.legend()\n",
    "plt.show()\n",
    "\n"
   ]
  },
  {
   "cell_type": "code",
   "execution_count": 83,
   "metadata": {
    "scrolled": false
   },
   "outputs": [
    {
     "data": {
      "text/plain": [
       "array([[785.99945],\n",
       "       [783.1052 ],\n",
       "       [783.4551 ],\n",
       "       [784.8523 ],\n",
       "       [788.37994],\n",
       "       [794.6429 ],\n",
       "       [800.28033],\n",
       "       [802.5553 ],\n",
       "       [803.0342 ],\n",
       "       [802.8685 ],\n",
       "       [802.5607 ],\n",
       "       [802.1182 ],\n",
       "       [801.72894],\n",
       "       [802.1233 ],\n",
       "       [802.9707 ],\n",
       "       [807.83234],\n",
       "       [814.978  ],\n",
       "       [822.5949 ],\n",
       "       [826.52313],\n",
       "       [821.7926 ]], dtype=float32)"
      ]
     },
     "execution_count": 83,
     "metadata": {},
     "output_type": "execute_result"
    }
   ],
   "source": [
    "predicted_stock_price"
   ]
  },
  {
   "cell_type": "code",
   "execution_count": 85,
   "metadata": {},
   "outputs": [],
   "source": [
    "real_test_ouput = dataset_test['Close']"
   ]
  },
  {
   "cell_type": "code",
   "execution_count": 86,
   "metadata": {},
   "outputs": [
    {
     "data": {
      "text/plain": [
       "0     786.14\n",
       "1     786.90\n",
       "2     794.02\n",
       "3     806.15\n",
       "4     806.65\n",
       "5     804.79\n",
       "6     807.91\n",
       "7     806.36\n",
       "8     807.88\n",
       "9     804.61\n",
       "10    806.07\n",
       "11    802.17\n",
       "12    805.02\n",
       "13    819.31\n",
       "14    823.87\n",
       "15    835.67\n",
       "16    832.15\n",
       "17    823.31\n",
       "18    802.32\n",
       "19    796.79\n",
       "Name: Close, dtype: float64"
      ]
     },
     "execution_count": 86,
     "metadata": {},
     "output_type": "execute_result"
    }
   ],
   "source": [
    "real_test_ouput"
   ]
  },
  {
   "cell_type": "code",
   "execution_count": 90,
   "metadata": {},
   "outputs": [],
   "source": [
    "# Score\n",
    "\n",
    "y_pred = regressor.predict(X_test)"
   ]
  },
  {
   "cell_type": "code",
   "execution_count": 94,
   "metadata": {},
   "outputs": [
    {
     "data": {
      "text/plain": [
       "array([[0.9429262 ],\n",
       "       [0.93754226],\n",
       "       [0.9381931 ],\n",
       "       [0.9407923 ],\n",
       "       [0.9473547 ],\n",
       "       [0.9590053 ],\n",
       "       [0.9694924 ],\n",
       "       [0.9737245 ],\n",
       "       [0.9746153 ],\n",
       "       [0.9743072 ],\n",
       "       [0.97373456],\n",
       "       [0.9729113 ],\n",
       "       [0.9721873 ],\n",
       "       [0.9729207 ],\n",
       "       [0.9744972 ],\n",
       "       [0.98354113],\n",
       "       [0.99683386],\n",
       "       [1.0110033 ],\n",
       "       [1.0183108 ],\n",
       "       [1.0095108 ]], dtype=float32)"
      ]
     },
     "execution_count": 94,
     "metadata": {},
     "output_type": "execute_result"
    }
   ],
   "source": [
    "# Show the accuracy at each steps\n",
    "y_pred"
   ]
  },
  {
   "cell_type": "code",
   "execution_count": 95,
   "metadata": {},
   "outputs": [
    {
     "data": {
      "text/plain": [
       "14.40858878382992"
      ]
     },
     "execution_count": 95,
     "metadata": {},
     "output_type": "execute_result"
    }
   ],
   "source": [
    "import math\n",
    "from sklearn.metrics import mean_squared_error\n",
    "rmse = math.sqrt(mean_squared_error(real_test_ouput, predicted_stock_price))\n",
    "rmse"
   ]
  },
  {
   "cell_type": "code",
   "execution_count": null,
   "metadata": {},
   "outputs": [],
   "source": []
  }
 ],
 "metadata": {
  "kernelspec": {
   "display_name": "Python 3",
   "language": "python",
   "name": "python3"
  },
  "language_info": {
   "codemirror_mode": {
    "name": "ipython",
    "version": 3
   },
   "file_extension": ".py",
   "mimetype": "text/x-python",
   "name": "python",
   "nbconvert_exporter": "python",
   "pygments_lexer": "ipython3",
   "version": "3.8.5"
  }
 },
 "nbformat": 4,
 "nbformat_minor": 4
}
